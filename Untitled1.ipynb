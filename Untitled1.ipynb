{
 "cells": [
  {
   "cell_type": "code",
   "execution_count": 92,
   "metadata": {},
   "outputs": [
    {
     "data": {
      "text/plain": [
       "1"
      ]
     },
     "execution_count": 92,
     "metadata": {},
     "output_type": "execute_result"
    }
   ],
   "source": [
    "import numpy as np\n",
    "\n",
    "def count_transitions(x) -> int:\n",
    "    count = 0\n",
    "    for i, j in zip(x[:-1], x[1:]):\n",
    "        if j and not i:\n",
    "            count += 1\n",
    "    return count\n",
    "\n",
    "x = np.random.choice([False, True], size=100000)\n",
    "f = np.random.choice([False, True], size=5)\n",
    "count_transitions(f)"
   ]
  },
  {
   "cell_type": "code",
   "execution_count": 89,
   "metadata": {},
   "outputs": [
    {
     "data": {
      "text/plain": [
       "7"
      ]
     },
     "execution_count": 89,
     "metadata": {},
     "output_type": "execute_result"
    }
   ],
   "source": [
    "def profit(prices):\n",
    "    max_px = 0\n",
    "    min_px = prices[0]\n",
    "    for px in prices[1:]:\n",
    "        min_px = min(min_px, px)\n",
    "        max_px = max(px - min_px, max_px)\n",
    "    return max_px\n",
    "prices = (20, 18, 14, 17, 20, 21, 15)\n",
    "profit(prices)"
   ]
  },
  {
   "cell_type": "code",
   "execution_count": 88,
   "metadata": {},
   "outputs": [],
   "source": [
    "prices = np.full(10, fill_value=np.nan)\n",
    "prices[[0, 2, 6, -1]] = [80., 30., 75., 50.]\n",
    "\n",
    "x = np.arange(len(prices))\n",
    "is_valid = ~np.isnan(prices)"
   ]
  },
  {
   "cell_type": "code",
   "execution_count": 80,
   "metadata": {},
   "outputs": [
    {
     "name": "stdout",
     "output_type": "stream",
     "text": [
      "[0 2 6 9] [80. 30. 75. 50.]\n"
     ]
    }
   ],
   "source": [
    "print(x[is_valid],prices[is_valid])"
   ]
  },
  {
   "cell_type": "code",
   "execution_count": 85,
   "metadata": {},
   "outputs": [
    {
     "data": {
      "text/plain": [
       "array([76.67464813, 52.22644626, 28.79541687, 38.48974493, 53.70679764,\n",
       "       65.27613156, 74.11817915, 68.60974193, 60.18085338, 51.60076864])"
      ]
     },
     "execution_count": 85,
     "metadata": {},
     "output_type": "execute_result"
    }
   ],
   "source": [
    "prices = np.interp(x=x, xp=x[is_valid], fp=prices[is_valid])\n",
    "prices += np.random.randn(len(prices)) * 2\n",
    "prices"
   ]
  },
  {
   "cell_type": "code",
   "execution_count": 95,
   "metadata": {},
   "outputs": [
    {
     "data": {
      "text/plain": [
       "[<matplotlib.lines.Line2D at 0x7f8f0a2e3700>]"
      ]
     },
     "execution_count": 95,
     "metadata": {},
     "output_type": "execute_result"
    },
    {
     "data": {
      "image/png": "[encoded data removed]",
      "text/plain": [
       "<Figure size 432x288 with 1 Axes>"
      ]
     },
     "metadata": {
      "needs_background": "light"
     },
     "output_type": "display_data"
    }
   ],
   "source": [
    "import matplotlib.pyplot as plt\n",
    "\n",
    "mn = np.argmin(prices)\n",
    "mx = mn + np.argmax(prices[mn:])\n",
    "kwargs = {'markersize': 12, 'linestyle': ''}\n",
    "fig, ax = plt.subplots()\n",
    "ax.plot(prices)\n",
    "ax.set_title('Price History')\n",
    "ax.set_xlabel('Time')\n",
    "ax.set_ylabel('Price')\n",
    "ax.plot(mn, prices[mn], color='green', **kwargs)\n",
    "ax.plot(mx, prices[mx], color='red', **kwargs)\n"
   ]
  },
  {
   "cell_type": "code",
   "execution_count": 132,
   "metadata": {},
   "outputs": [],
   "source": [
    "a = (0, 1, 1, 1, 2, 3, 7, 7, 23)\n",
    "\n",
    "def count_elements(seq) -> dict:\n",
    "    \"\"\"Tally elements from `seq`.\"\"\"\n",
    "    hist = {}\n",
    "    for i in seq:\n",
    "        hist[i] = hist.get(i, 0) + 1\n",
    "    return hist\n",
    "\n",
    "counted = count_elements(a)"
   ]
  },
  {
   "cell_type": "code",
   "execution_count": 149,
   "metadata": {},
   "outputs": [],
   "source": [
    "import random\n",
    "random.seed(1)\n",
    "\n",
    "vals = [1, 3, 4, 6, 8, 9, 10]\n",
    "# Each number in `vals` will occur between 5 and 15 times.\n",
    "freq = (random.randint(5, 15) for _ in vals)\n",
    "\n",
    "data = []\n",
    "for f, v in zip(freq, vals):\n",
    "    data.extend([v] * f)\n",
    "\n",
    "def ascii_histogram(seq) -> None:\n",
    "    \"\"\"A horizontal frequency-table/histogram plot.\"\"\"\n",
    "    counted = count_elements(seq)\n",
    "    for k in sorted(counted):\n",
    "        print('{0:5d} {1}'.format(k, '+' * counted[k]))\n",
    "\n"
   ]
  },
  {
   "cell_type": "code",
   "execution_count": 150,
   "metadata": {},
   "outputs": [
    {
     "name": "stdout",
     "output_type": "stream",
     "text": [
      "[1 3 1 1 0 0 0 2 0 0 0 0 0 0 0 0 0 0 0 0 0 0 0 1]\n",
      "Reproducing `collections.Counter`: {0: 1, 1: 3, 2: 1, 3: 1, 7: 2, 23: 1}\n"
     ]
    }
   ],
   "source": [
    "np.random.seed(444)\n",
    "np.set_printoptions(precision=3)\n",
    "\n",
    "d = np.random.laplace(loc=15, scale=3, size=10)\n",
    "d[:]\n",
    "hist, bin_edges = np.histogram(d)\n",
    "\n",
    "bcounts = np.bincount(a)\n",
    "hist, _ = np.histogram(a, range=(0, max(a)), bins=max(a) + 1)\n",
    "print(bcounts)\n",
    "# Reproducing `collections.Counter`\n",
    "print(\n",
    "    \"Reproducing `collections.Counter`:\",\n",
    "    dict(zip(np.unique(a), bcounts[bcounts.nonzero()])),\n",
    ")\n"
   ]
  },
  {
   "cell_type": "code",
   "execution_count": null,
   "metadata": {},
   "outputs": [],
   "source": []
  }
 ],
 "metadata": {
  "kernelspec": {
   "display_name": "Python 3",
   "language": "python",
   "name": "python3"
  },
  "language_info": {
   "codemirror_mode": {
    "name": "ipython",
    "version": 3
   },
   "file_extension": ".py",
   "mimetype": "text/x-python",
   "name": "python",
   "nbconvert_exporter": "python",
   "pygments_lexer": "ipython3",
   "version": "3.8.2"
  }
 },
 "nbformat": 4,
 "nbformat_minor": 4
}
